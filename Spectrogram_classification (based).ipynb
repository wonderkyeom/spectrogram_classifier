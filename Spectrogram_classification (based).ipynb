{
 "cells": [
  {
   "cell_type": "code",
   "execution_count": 1,
   "metadata": {},
   "outputs": [],
   "source": [
    "# import tensorflow as tf\n",
    "# from tensorflow import keras\n",
    "# import numpy as np\n",
    "\n",
    "# tf.config.list_physical_devices('GPU')"
   ]
  },
  {
   "cell_type": "code",
   "execution_count": 2,
   "metadata": {},
   "outputs": [],
   "source": [
    "import tensorflow as tf\n",
    "from tensorflow import keras\n",
    "import numpy as np\n",
    "import os\n",
    "\n",
    "data_path = os.getenv(\"HOME\")+'/aiffel/speech_recognition/data/speech_wav_8000.npz'\n",
    "speech_data = np.load(data_path)"
   ]
  },
  {
   "cell_type": "code",
   "execution_count": 3,
   "metadata": {},
   "outputs": [
    {
     "name": "stdout",
     "output_type": "stream",
     "text": [
      "Wave data shape :  (50620, 8000)\n",
      "Label data shape :  (50620, 1)\n"
     ]
    }
   ],
   "source": [
    "print(\"Wave data shape : \", speech_data[\"wav_vals\"].shape)\n",
    "print(\"Label data shape : \", speech_data[\"label_vals\"].shape)"
   ]
  },
  {
   "cell_type": "code",
   "execution_count": 4,
   "metadata": {},
   "outputs": [
    {
     "name": "stdout",
     "output_type": "stream",
     "text": [
      "LABEL :  ['yes', 'no', 'up', 'down', 'left', 'right', 'on', 'off', 'stop', 'go', 'unknown', 'silence']\n",
      "Indexed LABEL :  {'yes': 0, 'no': 1, 'up': 2, 'down': 3, 'left': 4, 'right': 5, 'on': 6, 'off': 7, 'stop': 8, 'go': 9, 'unknown': 10, 'silence': 11}\n"
     ]
    }
   ],
   "source": [
    "target_list = ['yes', 'no', 'up', 'down', 'left', 'right', 'on', 'off', 'stop', 'go']\n",
    "\n",
    "label_value = target_list\n",
    "label_value.append('unknown')\n",
    "label_value.append('silence')\n",
    "\n",
    "print('LABEL : ', label_value)\n",
    "\n",
    "new_label_value = dict()\n",
    "for i, l in enumerate(label_value):\n",
    "    new_label_value[l] = i\n",
    "label_value = new_label_value\n",
    "\n",
    "print('Indexed LABEL : ', new_label_value)"
   ]
  },
  {
   "cell_type": "code",
   "execution_count": 5,
   "metadata": {},
   "outputs": [],
   "source": [
    "temp = []\n",
    "for v in speech_data[\"label_vals\"]:\n",
    "    # print(v[0])\n",
    "    temp.append(label_value[v[0]])\n",
    "label_data = np.array(temp)\n",
    "\n",
    "# print(label_data)"
   ]
  },
  {
   "cell_type": "code",
   "execution_count": 6,
   "metadata": {},
   "outputs": [],
   "source": [
    "# !pip install librosa"
   ]
  },
  {
   "cell_type": "code",
   "execution_count": 7,
   "metadata": {},
   "outputs": [],
   "source": [
    "import librosa\n",
    "\n",
    "def wav2spec(wav, fft_size=258): # spectrogram shape을 맞추기위해서 size 변형\n",
    "    D = np.abs(librosa.stft(wav, n_fft=fft_size))\n",
    "    return D"
   ]
  },
  {
   "cell_type": "code",
   "execution_count": 8,
   "metadata": {},
   "outputs": [],
   "source": [
    "### memory killer1 ###\n",
    "# 위에서 뽑았던 sample data -> 2차원 data\n",
    "spec_data = []\n",
    "for wav in speech_data[\"wav_vals\"]:\n",
    "    spec = wav2spec(wav)\n",
    "    \n",
    "    spec_data.append(spec)\n",
    "\n",
    "# print(\"Waveform shape : \",data.shape)\n",
    "# print(\"Spectrogram shape : \",spec.shape)"
   ]
  },
  {
   "cell_type": "code",
   "execution_count": 9,
   "metadata": {},
   "outputs": [],
   "source": [
    "### memory killer2 ###\n",
    "spec_data = np.array(spec_data)"
   ]
  },
  {
   "cell_type": "code",
   "execution_count": 10,
   "metadata": {},
   "outputs": [
    {
     "name": "stdout",
     "output_type": "stream",
     "text": [
      "(45558, 130, 126, 1)\n"
     ]
    }
   ],
   "source": [
    "from sklearn.model_selection import train_test_split\n",
    "\n",
    "sr = 130 # 1초동안 재생되는 샘플의 갯수?\n",
    "sc = 126\n",
    "train_wav, test_wav, train_label, test_label = train_test_split(spec_data, \n",
    "                                                                label_data, \n",
    "                                                                test_size=0.1,\n",
    "                                                                shuffle=True)\n",
    "# print(train_wav)\n",
    "# print(train_wav.shape)\n",
    "\n",
    "train_wav = train_wav.reshape(-1, sr, sc, 1) # add channel for CNN\n",
    "test_wav = test_wav.reshape(-1, sr, sc, 1)\n",
    "\n",
    "print(train_wav.shape)\n",
    "# print(\"✅\")"
   ]
  },
  {
   "cell_type": "code",
   "execution_count": 11,
   "metadata": {},
   "outputs": [],
   "source": [
    "del spec_data"
   ]
  },
  {
   "cell_type": "code",
   "execution_count": 12,
   "metadata": {},
   "outputs": [
    {
     "name": "stdout",
     "output_type": "stream",
     "text": [
      "train data :  (45558, 130, 126, 1)\n",
      "train labels :  (45558,)\n",
      "test data :  (5062, 130, 126, 1)\n",
      "test labels :  (5062,)\n"
     ]
    }
   ],
   "source": [
    "print(\"train data : \", train_wav.shape)\n",
    "print(\"train labels : \", train_label.shape)\n",
    "print(\"test data : \", test_wav.shape)\n",
    "print(\"test labels : \", test_label.shape)\n",
    "# print(\"✅\")"
   ]
  },
  {
   "cell_type": "code",
   "execution_count": 13,
   "metadata": {},
   "outputs": [
    {
     "data": {
      "text/plain": [
       "'/home/ssac2/aiffel/speech_recognition/models/spec'"
      ]
     },
     "execution_count": 13,
     "metadata": {},
     "output_type": "execute_result"
    }
   ],
   "source": [
    "batch_size = 32\n",
    "max_epochs = 10 # 8정도 해도 충분함\n",
    "\n",
    "# the save point\n",
    "checkpoint_dir = os.getenv('HOME')+'/aiffel/speech_recognition/models/spec'\n",
    "\n",
    "checkpoint_dir"
   ]
  },
  {
   "cell_type": "code",
   "execution_count": 14,
   "metadata": {},
   "outputs": [],
   "source": [
    "def one_hot_label(wav, label):\n",
    "    label = tf.one_hot(label, depth=12)\n",
    "    return wav, label"
   ]
  },
  {
   "cell_type": "code",
   "execution_count": 15,
   "metadata": {},
   "outputs": [
    {
     "name": "stdout",
     "output_type": "stream",
     "text": [
      "(45558, 130, 126, 1) (45558,)\n"
     ]
    }
   ],
   "source": [
    "print(train_wav.shape, train_label.shape)"
   ]
  },
  {
   "cell_type": "code",
   "execution_count": 16,
   "metadata": {},
   "outputs": [
    {
     "name": "stdout",
     "output_type": "stream",
     "text": [
      "(45558, 130, 126, 1) (45558,)\n",
      "<TensorSliceDataset shapes: ((130, 126, 1), ()), types: (tf.float32, tf.int64)>\n",
      "<MapDataset shapes: ((130, 126, 1), (12,)), types: (tf.float32, tf.float32)>\n",
      "<BatchDataset shapes: ((None, 130, 126, 1), (None, 12)), types: (tf.float32, tf.float32)>\n",
      "<BatchDataset shapes: ((None, 130, 126, 1), (None, 12)), types: (tf.float32, tf.float32)>\n"
     ]
    }
   ],
   "source": [
    "import tensorflow as tf\n",
    "\n",
    "print(train_wav.shape, train_label.shape)\n",
    "# for train\n",
    "train_dataset = tf.data.Dataset.from_tensor_slices((train_wav, train_label))\n",
    "print(train_dataset)\n",
    "train_dataset = train_dataset.map(one_hot_label)\n",
    "print(train_dataset)\n",
    "train_dataset = train_dataset.repeat().batch(batch_size=batch_size)\n",
    "print(train_dataset)\n",
    "\n",
    "# for test\n",
    "test_dataset = tf.data.Dataset.from_tensor_slices((test_wav, test_label))\n",
    "test_dataset = test_dataset.map(one_hot_label)\n",
    "test_dataset = test_dataset.batch(batch_size=batch_size)\n",
    "print(test_dataset)"
   ]
  },
  {
   "cell_type": "code",
   "execution_count": 17,
   "metadata": {},
   "outputs": [],
   "source": [
    "del speech_data"
   ]
  },
  {
   "cell_type": "code",
   "execution_count": 18,
   "metadata": {},
   "outputs": [
    {
     "name": "stdout",
     "output_type": "stream",
     "text": [
      "Model: \"model\"\n",
      "_________________________________________________________________\n",
      "Layer (type)                 Output Shape              Param #   \n",
      "=================================================================\n",
      "input_1 (InputLayer)         [(None, 130, 126, 1)]     0         \n",
      "_________________________________________________________________\n",
      "conv2d (Conv2D)              (None, 130, 126, 32)      2624      \n",
      "_________________________________________________________________\n",
      "conv2d_1 (Conv2D)            (None, 130, 126, 32)      82976     \n",
      "_________________________________________________________________\n",
      "max_pooling2d (MaxPooling2D) (None, 65, 63, 32)        0         \n",
      "_________________________________________________________________\n",
      "conv2d_2 (Conv2D)            (None, 65, 63, 64)        165952    \n",
      "_________________________________________________________________\n",
      "conv2d_3 (Conv2D)            (None, 65, 63, 64)        331840    \n",
      "_________________________________________________________________\n",
      "max_pooling2d_1 (MaxPooling2 (None, 32, 31, 64)        0         \n",
      "_________________________________________________________________\n",
      "conv2d_4 (Conv2D)            (None, 32, 31, 128)       663680    \n",
      "_________________________________________________________________\n",
      "conv2d_5 (Conv2D)            (None, 32, 31, 128)       1327232   \n",
      "_________________________________________________________________\n",
      "conv2d_6 (Conv2D)            (None, 32, 31, 128)       1327232   \n",
      "_________________________________________________________________\n",
      "max_pooling2d_2 (MaxPooling2 (None, 16, 15, 128)       0         \n",
      "_________________________________________________________________\n",
      "conv2d_7 (Conv2D)            (None, 16, 15, 256)       2654464   \n",
      "_________________________________________________________________\n",
      "conv2d_8 (Conv2D)            (None, 16, 15, 256)       5308672   \n",
      "_________________________________________________________________\n",
      "conv2d_9 (Conv2D)            (None, 16, 15, 256)       5308672   \n",
      "_________________________________________________________________\n",
      "max_pooling2d_3 (MaxPooling2 (None, 8, 7, 256)         0         \n",
      "_________________________________________________________________\n",
      "dropout (Dropout)            (None, 8, 7, 256)         0         \n",
      "_________________________________________________________________\n",
      "flatten (Flatten)            (None, 14336)             0         \n",
      "_________________________________________________________________\n",
      "dense (Dense)                (None, 256)               3670272   \n",
      "_________________________________________________________________\n",
      "batch_normalization (BatchNo (None, 256)               1024      \n",
      "_________________________________________________________________\n",
      "activation (Activation)      (None, 256)               0         \n",
      "_________________________________________________________________\n",
      "dense_1 (Dense)              (None, 12)                3084      \n",
      "=================================================================\n",
      "Total params: 20,847,724\n",
      "Trainable params: 20,847,212\n",
      "Non-trainable params: 512\n",
      "_________________________________________________________________\n"
     ]
    }
   ],
   "source": [
    "from tensorflow.keras import layers\n",
    "\n",
    "input_tensor = layers.Input(shape=(sr, sc, 1))\n",
    "\n",
    "x = layers.Conv2D(32, 9, padding='same', activation='relu')(input_tensor)\n",
    "x = layers.Conv2D(32, 9, padding='same', activation='relu')(x)\n",
    "x = layers.MaxPool2D()(x)\n",
    "\n",
    "x = layers.Conv2D(64, 9, padding='same', activation='relu')(x)\n",
    "x = layers.Conv2D(64, 9, padding='same', activation='relu')(x)\n",
    "x = layers.MaxPool2D()(x)\n",
    "\n",
    "x = layers.Conv2D(128, 9, padding='same', activation='relu')(x)\n",
    "x = layers.Conv2D(128, 9, padding='same', activation='relu')(x)\n",
    "x = layers.Conv2D(128, 9, padding='same', activation='relu')(x)\n",
    "x = layers.MaxPool2D()(x)\n",
    "\n",
    "x = layers.Conv2D(256, 9, padding='same', activation='relu')(x)\n",
    "x = layers.Conv2D(256, 9, padding='same', activation='relu')(x)\n",
    "x = layers.Conv2D(256, 9, padding='same', activation='relu')(x)\n",
    "x = layers.MaxPool2D()(x)\n",
    "x = layers.Dropout(0.3)(x)\n",
    "\n",
    "x = layers.Flatten()(x)\n",
    "x = layers.Dense(256)(x)\n",
    "x = layers.BatchNormalization()(x)\n",
    "x = layers.Activation('relu')(x)\n",
    "\n",
    "output_tensor = layers.Dense(12)(x)\n",
    "\n",
    "model_wav = tf.keras.Model(input_tensor, output_tensor)\n",
    "\n",
    "model_wav.summary()"
   ]
  },
  {
   "cell_type": "code",
   "execution_count": 19,
   "metadata": {},
   "outputs": [],
   "source": [
    "optimizer=tf.keras.optimizers.Adam(1e-4)\n",
    "model_wav.compile(loss=tf.keras.losses.CategoricalCrossentropy(from_logits=True),\n",
    "             optimizer=optimizer,\n",
    "             metrics=['accuracy'])"
   ]
  },
  {
   "cell_type": "code",
   "execution_count": 20,
   "metadata": {},
   "outputs": [],
   "source": [
    "cp_callback = tf.keras.callbacks.ModelCheckpoint(checkpoint_dir,\n",
    "                                                 save_weights_only=True,\n",
    "                                                 monitor='val_loss',\n",
    "                                                 mode='auto',\n",
    "                                                 save_best_only=True,\n",
    "                                                 verbose=1)"
   ]
  },
  {
   "cell_type": "code",
   "execution_count": 21,
   "metadata": {},
   "outputs": [
    {
     "name": "stdout",
     "output_type": "stream",
     "text": [
      "Epoch 1/10\n",
      "1423/1423 [==============================] - ETA: 0s - loss: 0.6943 - accuracy: 0.7694\n",
      "Epoch 00001: val_loss improved from inf to 0.24045, saving model to /home/ssac2/aiffel/speech_recognition/models/spec\n",
      "1423/1423 [==============================] - 342s 240ms/step - loss: 0.6943 - accuracy: 0.7694 - val_loss: 0.2405 - val_accuracy: 0.9199\n",
      "Epoch 2/10\n",
      "1423/1423 [==============================] - ETA: 0s - loss: 0.2356 - accuracy: 0.9257\n",
      "Epoch 00002: val_loss improved from 0.24045 to 0.21730, saving model to /home/ssac2/aiffel/speech_recognition/models/spec\n",
      "1423/1423 [==============================] - 205s 144ms/step - loss: 0.2356 - accuracy: 0.9257 - val_loss: 0.2173 - val_accuracy: 0.9306\n",
      "Epoch 3/10\n",
      "1423/1423 [==============================] - ETA: 0s - loss: 0.1631 - accuracy: 0.9474\n",
      "Epoch 00003: val_loss improved from 0.21730 to 0.15625, saving model to /home/ssac2/aiffel/speech_recognition/models/spec\n",
      "1423/1423 [==============================] - 206s 145ms/step - loss: 0.1631 - accuracy: 0.9474 - val_loss: 0.1562 - val_accuracy: 0.9504\n",
      "Epoch 4/10\n",
      "1423/1423 [==============================] - ETA: 0s - loss: 0.1247 - accuracy: 0.9596\n",
      "Epoch 00004: val_loss improved from 0.15625 to 0.13306, saving model to /home/ssac2/aiffel/speech_recognition/models/spec\n",
      "1423/1423 [==============================] - 206s 144ms/step - loss: 0.1247 - accuracy: 0.9596 - val_loss: 0.1331 - val_accuracy: 0.9551\n",
      "Epoch 5/10\n",
      "1423/1423 [==============================] - ETA: 0s - loss: 0.1069 - accuracy: 0.9643\n",
      "Epoch 00005: val_loss improved from 0.13306 to 0.11253, saving model to /home/ssac2/aiffel/speech_recognition/models/spec\n",
      "1423/1423 [==============================] - 208s 146ms/step - loss: 0.1069 - accuracy: 0.9643 - val_loss: 0.1125 - val_accuracy: 0.9620\n",
      "Epoch 6/10\n",
      "1423/1423 [==============================] - ETA: 0s - loss: 0.0877 - accuracy: 0.9706\n",
      "Epoch 00006: val_loss improved from 0.11253 to 0.10292, saving model to /home/ssac2/aiffel/speech_recognition/models/spec\n",
      "1423/1423 [==============================] - 211s 148ms/step - loss: 0.0877 - accuracy: 0.9706 - val_loss: 0.1029 - val_accuracy: 0.9652\n",
      "Epoch 7/10\n",
      "1423/1423 [==============================] - ETA: 0s - loss: 0.0806 - accuracy: 0.9732\n",
      "Epoch 00007: val_loss did not improve from 0.10292\n",
      "1423/1423 [==============================] - 204s 143ms/step - loss: 0.0806 - accuracy: 0.9732 - val_loss: 0.1073 - val_accuracy: 0.9658\n",
      "Epoch 8/10\n",
      "1423/1423 [==============================] - ETA: 0s - loss: 0.0713 - accuracy: 0.9760\n",
      "Epoch 00008: val_loss improved from 0.10292 to 0.08903, saving model to /home/ssac2/aiffel/speech_recognition/models/spec\n",
      "1423/1423 [==============================] - 203s 142ms/step - loss: 0.0713 - accuracy: 0.9760 - val_loss: 0.0890 - val_accuracy: 0.9686\n",
      "Epoch 9/10\n",
      "1423/1423 [==============================] - ETA: 0s - loss: 0.0667 - accuracy: 0.9766\n",
      "Epoch 00009: val_loss did not improve from 0.08903\n",
      "1423/1423 [==============================] - 204s 143ms/step - loss: 0.0667 - accuracy: 0.9766 - val_loss: 0.0926 - val_accuracy: 0.9697\n",
      "Epoch 10/10\n",
      "1423/1423 [==============================] - ETA: 0s - loss: 0.0598 - accuracy: 0.9798\n",
      "Epoch 00010: val_loss did not improve from 0.08903\n",
      "1423/1423 [==============================] - 203s 142ms/step - loss: 0.0598 - accuracy: 0.9798 - val_loss: 0.1205 - val_accuracy: 0.9634\n",
      "✅\n"
     ]
    }
   ],
   "source": [
    "# 메모리 사용량 주의!\n",
    "history_wav = model_wav.fit(train_dataset, epochs=max_epochs,\n",
    "                    steps_per_epoch=len(train_wav) // batch_size,\n",
    "                    validation_data=test_dataset,\n",
    "                    validation_steps=len(test_wav) // batch_size,\n",
    "                    callbacks=[cp_callback]\n",
    "                    )\n",
    "print(\"✅\")"
   ]
  },
  {
   "cell_type": "code",
   "execution_count": 22,
   "metadata": {},
   "outputs": [
    {
     "name": "stdout",
     "output_type": "stream",
     "text": [
      "WARNING:tensorflow:From /home/ssac2/anaconda3/envs/k2/lib/python3.7/site-packages/tensorflow/python/ops/resource_variable_ops.py:1817: calling BaseResourceVariable.__init__ (from tensorflow.python.ops.resource_variable_ops) with constraint is deprecated and will be removed in a future version.\n",
      "Instructions for updating:\n",
      "If using Keras pass *_constraint arguments to layers.\n",
      "INFO:tensorflow:Assets written to: ./speech_model/assets\n"
     ]
    }
   ],
   "source": [
    "model_wav.save('./speech_model')"
   ]
  },
  {
   "cell_type": "code",
   "execution_count": 23,
   "metadata": {},
   "outputs": [
    {
     "data": {
      "image/png": "[encoded data removed]",
      "text/plain": [
       "<Figure size 576x576 with 2 Axes>"
      ]
     },
     "metadata": {
      "needs_background": "light"
     },
     "output_type": "display_data"
    },
    {
     "name": "stdout",
     "output_type": "stream",
     "text": [
      "✅\n"
     ]
    }
   ],
   "source": [
    "import matplotlib.pyplot as plt\n",
    "\n",
    "acc = history_wav.history['accuracy']\n",
    "val_acc = history_wav.history['val_accuracy']\n",
    "\n",
    "loss=history_wav.history['loss']\n",
    "val_loss=history_wav.history['val_loss']\n",
    "\n",
    "epochs_range = range(len(acc))\n",
    "\n",
    "plt.figure(figsize=(8, 8))\n",
    "plt.subplot(1, 2, 1)\n",
    "plt.plot(epochs_range, acc, label='Training Accuracy')\n",
    "plt.plot(epochs_range, val_acc, label='Validation Accuracy')\n",
    "plt.legend(loc='lower right')\n",
    "plt.title('Training and Validation Accuracy')\n",
    "\n",
    "plt.subplot(1, 2, 2)\n",
    "plt.plot(epochs_range, loss, label='Training Loss')\n",
    "plt.plot(epochs_range, val_loss, label='Validation Loss')\n",
    "plt.legend(loc='upper right')\n",
    "plt.title('Training and Validation Loss')\n",
    "plt.show()\n",
    "print(\"✅\")"
   ]
  },
  {
   "cell_type": "code",
   "execution_count": 24,
   "metadata": {},
   "outputs": [
    {
     "name": "stdout",
     "output_type": "stream",
     "text": [
      "✅\n"
     ]
    }
   ],
   "source": [
    "model_wav.load_weights(checkpoint_dir)\n",
    "print(\"✅\")"
   ]
  },
  {
   "cell_type": "code",
   "execution_count": 25,
   "metadata": {},
   "outputs": [
    {
     "name": "stdout",
     "output_type": "stream",
     "text": [
      "159/159 [==============================] - 24s 154ms/step - loss: 0.0889 - accuracy: 0.9686\n",
      "✅\n"
     ]
    }
   ],
   "source": [
    "results = model_wav.evaluate(test_dataset)\n",
    "print(\"✅\")"
   ]
  },
  {
   "cell_type": "code",
   "execution_count": 26,
   "metadata": {},
   "outputs": [
    {
     "name": "stdout",
     "output_type": "stream",
     "text": [
      "loss value: 0.089\n",
      "accuracy value: 96.8589%\n",
      "✅\n"
     ]
    }
   ],
   "source": [
    "# loss\n",
    "print(\"loss value: {:.3f}\".format(results[0]))\n",
    "# accuracy\n",
    "print(\"accuracy value: {:.4f}%\".format(results[1]*100))\n",
    "print(\"✅\")"
   ]
  },
  {
   "cell_type": "code",
   "execution_count": 28,
   "metadata": {},
   "outputs": [],
   "source": [
    "def spec2wav(stft):\n",
    "    y = np.abs(librosa.istft(stft))\n",
    "    return y"
   ]
  },
  {
   "cell_type": "code",
   "execution_count": 45,
   "metadata": {},
   "outputs": [
    {
     "name": "stdout",
     "output_type": "stream",
     "text": [
      "(130, 126, 1)\n"
     ]
    }
   ],
   "source": [
    "print(test_wav[0].shape)"
   ]
  },
  {
   "cell_type": "code",
   "execution_count": 47,
   "metadata": {},
   "outputs": [
    {
     "data": {
      "text/plain": [
       "(5062, 8000)"
      ]
     },
     "execution_count": 47,
     "metadata": {},
     "output_type": "execute_result"
    }
   ],
   "source": [
    "data_wav = []\n",
    "for spec in test_wav: # 변수명을 그대로 써서 test_wav에 spec_data의 10%가 들어있음\n",
    "    wav = spec2wav(spec.reshape(130, 126))\n",
    "    data_wav.append(wav)\n",
    "    \n",
    "data_wav = np.array(data_wav)\n",
    "data_wav.shape"
   ]
  },
  {
   "cell_type": "code",
   "execution_count": 52,
   "metadata": {},
   "outputs": [
    {
     "name": "stdout",
     "output_type": "stream",
     "text": [
      "label :  up\n"
     ]
    },
    {
     "data": {
      "text/html": [
       "\n",
       "                <audio  controls=\"controls\" >\n",
       "                    <source src=\"data:audio/wav;base64,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\" type=\"audio/wav\" />\n",
       "                    Your browser does not support the audio element.\n",
       "                </audio>\n",
       "              "
      ],
      "text/plain": [
       "<IPython.lib.display.Audio object>"
      ]
     },
     "execution_count": 52,
     "metadata": {},
     "output_type": "execute_result"
    }
   ],
   "source": [
    "import IPython.display as ipd\n",
    "import random\n",
    "\n",
    "inv_label_value = {v: k for k, v in label_value.items()}\n",
    "batch_index = np.random.choice(len(data_wav), size=1, replace=False)\n",
    "\n",
    "batch_xs = np.array(test_wav[batch_index]) ##########\n",
    "batch_ys = test_label[batch_index]\n",
    "y_pred_ = model_wav(batch_xs, training=False)\n",
    "\n",
    "print(\"label : \", str(inv_label_value[batch_ys[0]]))\n",
    "\n",
    "# ipd.Audio(batch_xs.reshape(8000,), rate = 8000)\n",
    "compare_xs = np.array(data_wav[batch_index])\n",
    "ipd.Audio(compare_xs.reshape(8000, ), rate = 8000)"
   ]
  },
  {
   "cell_type": "code",
   "execution_count": 51,
   "metadata": {},
   "outputs": [
    {
     "name": "stdout",
     "output_type": "stream",
     "text": [
      "y_pred: down(Correct!)\n",
      "✅\n"
     ]
    }
   ],
   "source": [
    "if np.argmax(y_pred_) == batch_ys[0]:\n",
    "    print(\"y_pred: \" + str(inv_label_value[np.argmax(y_pred_)]) + '(Correct!)')\n",
    "else:\n",
    "    print(\"y_pred: \" + str(inv_label_value[np.argmax(y_pred_)]) + '(Incorrect!)')\n",
    "print(\"✅\")"
   ]
  },
  {
   "cell_type": "markdown",
   "metadata": {},
   "source": [
    "# 회고\n",
    "\n",
    "### - 이번 프로젝트에서 어려웠던 점.\n",
    "    CNN에 대한 명확한 개념이 잡혀있지 않아 모델을 2차원 데이터에 맞게 구성하는 것에 1차적으로 어려움을 겪었습니다. 처음에는 LMS 노드의 내용을 이해하기 위해 관련 내용들을 그대로 실습하는데 초점이 맞춰져서 Conv1D로 잘못 학습시키고 있던걸 혜림퍼실님께서 바로잡아주셨습니다.\n",
    "    \n",
    "    2번째로 어려웠던 점은 모델 구성 이후 testset에서까지 좋은 acc를 받은거 까지는 좋았는데, 제 귀로 직접 정답인지 체크해보고 싶어서 2차원의 spectrogram 파일들을 다시 1차원으로 변환하기 위한 spec2wav 함수를 정의하고, 변환 과정을 거처 다시 음성을 추출하는 과정에서 애를 먹었습니다. 결국 또 혜림퍼실님이 방법을 알려주셔서 어찌저찌 변환은 성공햇는데, 막상 들어보니 데이터가 많이 손실된 상태여서 label에 해당되는 음원을 명확하게 듣지는 못했습니다.\n",
    "\n",
    "\n",
    "### - 프로젝트를 진행하면서 알아낸 점 혹은 아직 모호한 점.\n",
    "    skip-connection 모델로 수행했을 때 성능이 크게 다르지 않다는 점을 알게되었습니다.\n",
    "    spectrogram에서 wav 파일로 완벽하게 복구하는 것은 힘들지만, melspectrogram에서 wav 파일로 변환하면 크게 데이터의 손실 없이 변환하는 것이 가능하다는 것을 알게되었습니다.\n",
    "\n",
    "\n",
    "### - 루브릭 평가 지표를 맞추기 위해 시도한 것들.\n",
    "    \n",
    "    1) 음성데이터를 2차원 Spectrogram으로 변환하여 데이터셋을 구성하였다. (스펙트로그램 시각화 및 train/test 데이터셋 구성이 정상 진행되었는가?)\n",
    "    \n",
    "    네. 음성데이터(wav)를 2차원의 Spectrogram(spec)으로 변환해서 학습을 진행하였습니다.\n",
    "    \n",
    "    \n",
    "    \n",
    "    2) 1, 2차원 데이터를 처리하는 음성인식 모델이 정상 작동한다. (스펙트로그램을 입력받은 모델이 학습 과정에서 안정적으로 수렴하며, evaluation/test 단계를 무리없이 진행 가능한가?)\n",
    "    \n",
    "    네. Conv2D 모델을 생성하여 2차원 데이터를 올바로 학습시켰고, loss와 acc를 출력해 그래프로 그려본 결과 loss가 0으로 수렴하고, 그에 따른 정확도도 향상되는 것을 확인하였습니다.\n",
    "    \n",
    "    \n",
    "    \n",
    "    3) 테스트셋 수행결과 음성인식 모델의 Accuracy가 일정 수준에 도달하였다. (evaluation 결과 75% 이상의 정확도를 달성하는 모델이 하나 이상 존재하는가?)\n",
    "    \n",
    "    네. 학습된 모델을 바탕으로 테스트셋을 수행해본 결과 해당 모델의 acc가 96.86% 나오는 것을 확인하였습니다. 또한, skip-connection 모델로도 수행해보았는데, 해당 모델 역시 96.29%의 높은 정확도를 보이는 것을 확인하였습니다.\n",
    "    \n",
    "    \n",
    "    "
   ]
  },
  {
   "cell_type": "code",
   "execution_count": null,
   "metadata": {},
   "outputs": [],
   "source": []
  }
 ],
 "metadata": {
  "kernelspec": {
   "display_name": "k2",
   "language": "python",
   "name": "k2"
  },
  "language_info": {
   "codemirror_mode": {
    "name": "ipython",
    "version": 3
   },
   "file_extension": ".py",
   "mimetype": "text/x-python",
   "name": "python",
   "nbconvert_exporter": "python",
   "pygments_lexer": "ipython3",
   "version": "3.7.9"
  }
 },
 "nbformat": 4,
 "nbformat_minor": 4
}
